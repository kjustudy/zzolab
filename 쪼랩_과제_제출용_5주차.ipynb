{
  "nbformat": 4,
  "nbformat_minor": 0,
  "metadata": {
    "colab": {
      "name": "쪼랩 과제 제출용 5주차.ipynb",
      "provenance": [],
      "authorship_tag": "ABX9TyMoXBd9kr19rp0Tzq2OMlWQ",
      "include_colab_link": true
    },
    "kernelspec": {
      "name": "python3",
      "display_name": "Python 3"
    },
    "language_info": {
      "name": "python"
    }
  },
  "cells": [
    {
      "cell_type": "markdown",
      "metadata": {
        "id": "view-in-github",
        "colab_type": "text"
      },
      "source": [
        "<a href=\"https://colab.research.google.com/github/kjustudy/zzolab/blob/main/%EC%AA%BC%EB%9E%A9_%EA%B3%BC%EC%A0%9C_%EC%A0%9C%EC%B6%9C%EC%9A%A9_5%EC%A3%BC%EC%B0%A8.ipynb\" target=\"_parent\"><img src=\"https://colab.research.google.com/assets/colab-badge.svg\" alt=\"Open In Colab\"/></a>"
      ]
    },
    {
      "cell_type": "markdown",
      "source": [
        "\n",
        "\n",
        "### 5주차 과제\n",
        "\n",
        "\n",
        "✅5주차 과제 \n",
        "\n",
        "- 나의 과제 주제 : 내가 사는 도시(창원시)의 동네별 연령별 인구수 시각화하기\n",
        "\n",
        "---\n",
        "\n",
        "1. 이번주 첫 번째 미션은 개인 프로젝트 초안 작성하고 공유하기 입니다!\n",
        "- 개인 프로젝트 초안! 혹시 너무 거창하게 들리시나요?! 그런데 이미 선생님들께서는 지금까지 우리반 명단 프로젝트, 기온 데이터 프로젝트, 인구 데이터 프로젝트를 만들어오셨답니다!\n",
        "(여기서 잠깐! 프로젝트의 기준은 누군가의 코드를 그대로 쓰지 않고 자신의 아이디어를 1이라도 추가해서 개선시켰다면 프로젝트로 볼 수 있습니다!!)\n",
        "- 이번 미션은 지금까지 작성하셨던 프로젝트들 중 가장 애착이 가는, 또는 더 발전시켜보고 싶은 프로젝트 하나를 정하셔서 기존 코드에서 아주 조금만 더 수정해서 제출하셔도 됩니다! \n",
        "(물론, 기존 코드와 완전히 상관이 없어도 해보고 싶었던 프로젝트를 하셔도 됩니다!)\n",
        "- 대신 이번주에는 미션 제출 양식이 있으니 양식을 지켜서 제출해주세요!ㅎㅎ(양식은 아래에 있습니다!)\n",
        "\n",
        "2.  두 번째 미션! 바로 깃헙(또는 깃허브) 가입하기 입니다!\n",
        "- 두 번째 미션이 있다고 해서 걱정하셨나요?!ㅎㅎ 두 번째 미션은 깃헙이라는 서비스에 가입하시고 가입하신 계정 링크를 공유해주시는 것입니다! 다른 어려움은 없으실 것 같지만, 나선 은하가 어떻게 생겼는지 미리 알아두시면 도움이 될 겁니다! 🙂\n",
        "* 깃헙 주소 : https://github.com/\n",
        "** 나선 은하 : https://apod.nasa.gov/apod/image/1712/ngc1232b_vlt_960.jpg\n",
        "- 다음주 최종 미션에서는 지금까지 이번주에 작성하신 프로젝트 코드와 데이터를 깃헙이라는 서비스에 업로드하시게 될텐데요! 그 전에 미리 가입을 부탁드리겠습니다!\n",
        "- 깃헙을 어떻게 사용하면 되는지에 대한 병아리반 수준의 초초보 강의도 곧 업로드해드리겠습니다!\n",
        "- 암튼! 이번주 미션 제출 양식 간단히 안내해드리오니 이번주엔 요 양식에 아래 예시를 참고하셔서 미션을 제출해주세요!\n",
        "\n",
        "[ 5주차 미션 제출 양식 ]\n",
        "1) 제 프로젝트의 주제 : 내가 사는 도시(창원시)의 동네별 연령별 인구수 시각화하기\n",
        "2) 프로젝트 코랩 링크 : https://colab.research.google.com/drive/1obrFUaBg20N81TBz8bDGdzHwl-gNxq4e?usp=sharing\n",
        "3) 깃헙 링크 : \n",
        "\n",
        "---\n",
        "\n",
        "\n",
        "#### 디스코드 : 자바라 \n",
        "<br><br/>\n",
        "\n",
        "***\n"
      ],
      "metadata": {
        "id": "pABBgaswlZe3"
      }
    },
    {
      "cell_type": "code",
      "source": [
        "\n",
        "# 한글폰트 설치하기 \n",
        "\n",
        "\n",
        "!apt-get install fonts-nanum -qq > /dev/null # 한글폰트설치\n",
        "!fc-cache -fv\n",
        "import matplotlib as mpl\n",
        "mpl.font_manager._rebuild()\n",
        "findfont = mpl.font_manager.fontManager.findfont\n",
        "mpl.font_manager.findfont = findfont\n",
        "mpl.backends.backend_agg.findfont = findfont\n",
        "\n",
        "\n",
        "\n",
        "\n",
        "\n"
      ],
      "metadata": {
        "colab": {
          "base_uri": "https://localhost:8080/"
        },
        "id": "LRkKHZI6okKj",
        "outputId": "a3cf00b8-b6fd-4229-b0fd-641e69cb46f9"
      },
      "execution_count": null,
      "outputs": [
        {
          "output_type": "stream",
          "name": "stdout",
          "text": [
            "/usr/share/fonts: caching, new cache contents: 0 fonts, 1 dirs\n",
            "/usr/share/fonts/truetype: caching, new cache contents: 0 fonts, 3 dirs\n",
            "/usr/share/fonts/truetype/humor-sans: caching, new cache contents: 1 fonts, 0 dirs\n",
            "/usr/share/fonts/truetype/liberation: caching, new cache contents: 16 fonts, 0 dirs\n",
            "/usr/share/fonts/truetype/nanum: caching, new cache contents: 10 fonts, 0 dirs\n",
            "/usr/local/share/fonts: caching, new cache contents: 0 fonts, 0 dirs\n",
            "/root/.local/share/fonts: skipping, no such directory\n",
            "/root/.fonts: skipping, no such directory\n",
            "/var/cache/fontconfig: cleaning cache directory\n",
            "/root/.cache/fontconfig: not cleaning non-existent cache directory\n",
            "/root/.fontconfig: not cleaning non-existent cache directory\n",
            "fc-cache: succeeded\n"
          ]
        }
      ]
    },
    {
      "cell_type": "code",
      "source": [
        "\n",
        "from google.colab import files\n",
        "files.upload()\n"
      ],
      "metadata": {
        "id": "zeTU_WVFooZy"
      },
      "execution_count": null,
      "outputs": []
    },
    {
      "cell_type": "code",
      "source": [
        "ls\n"
      ],
      "metadata": {
        "colab": {
          "base_uri": "https://localhost:8080/"
        },
        "id": "yN1biQOOooYB",
        "outputId": "a7ce4610-3a8a-482f-9165-908a6cc22b09"
      },
      "execution_count": 20,
      "outputs": [
        {
          "output_type": "stream",
          "name": "stdout",
          "text": [
            "age.csv  \u001b[0m\u001b[01;34msample_data\u001b[0m/\n"
          ]
        }
      ]
    },
    {
      "cell_type": "code",
      "source": [
        "import csv\n",
        "data = csv.reader(open('age.csv', encoding = 'cp949'))  #age = \n",
        "next(data)\n",
        "\n",
        "\n",
        "print('창원시의 연령별 인구수를 알아봅시다')\n",
        "A = input('분석을 원하는 우리 동네 이름을 말 해 주세요: 00동')    #A \n",
        "\n",
        "\n",
        "\n",
        "\n",
        "\n",
        "result = []   #result = \n",
        "\n",
        "\n",
        "for row in data : \n",
        "  if A in row[0] : \n",
        "    for i in row[3:] :\n",
        "      result.append(int((i)))\n",
        "\n",
        "\n",
        "print(result)\n",
        "\n",
        "\n",
        "import matplotlib.pyplot as pyplot\n",
        "plt.style.use('ggplot') #격자무늬지정\n",
        "plt.plot(result)\n",
        "plt.title(A + ' 연령별 인구수')\n",
        "plt.show()\n",
        "\n",
        "\n",
        "\n",
        "\n",
        "\n",
        "\n",
        "\n",
        "\n"
      ],
      "metadata": {
        "colab": {
          "base_uri": "https://localhost:8080/",
          "height": 355
        },
        "id": "8czw0XUCooV_",
        "outputId": "e37a325d-58a6-40a7-d9ce-24e6a68026d8"
      },
      "execution_count": 40,
      "outputs": [
        {
          "output_type": "stream",
          "name": "stdout",
          "text": [
            "창원시의 연령별 인구수를 알아봅시다\n",
            "분석을 원하는 우리 동네 이름을 말 해 주세요: 00동합성1동\n",
            "[56, 47, 60, 57, 64, 65, 69, 69, 74, 60, 54, 52, 54, 46, 56, 61, 56, 55, 42, 56, 69, 98, 82, 98, 115, 128, 105, 100, 112, 133, 125, 116, 117, 139, 101, 98, 115, 117, 121, 125, 173, 132, 149, 121, 128, 103, 115, 127, 146, 148, 130, 140, 163, 181, 158, 161, 154, 163, 136, 166, 167, 194, 188, 163, 157, 165, 186, 161, 131, 134, 132, 80, 112, 126, 95, 92, 62, 67, 57, 69, 62, 57, 53, 30, 28, 24, 23, 22, 18, 10, 6, 5, 3, 4, 5, 5, 0, 0, 0, 1, 3]\n"
          ]
        },
        {
          "output_type": "display_data",
          "data": {
            "text/plain": [
              "<Figure size 432x288 with 1 Axes>"
            ],
            "image/png": "[encoded data removed]"
          },
          "metadata": {}
        }
      ]
    },
    {
      "cell_type": "code",
      "source": [
        "\n",
        "\n",
        "\n",
        "\n",
        "\n",
        "\n"
      ],
      "metadata": {
        "id": "MuEtcDcGooR1"
      },
      "execution_count": null,
      "outputs": []
    },
    {
      "cell_type": "code",
      "source": [
        ""
      ],
      "metadata": {
        "id": "s9eX2VZVon-s"
      },
      "execution_count": null,
      "outputs": []
    }
  ]
}